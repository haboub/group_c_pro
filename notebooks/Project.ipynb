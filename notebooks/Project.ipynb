{
 "cells": [
  {
   "cell_type": "markdown",
   "id": "e8aac10e",
   "metadata": {},
   "source": [
    "### 8 Dec 2024 - Term 241\n",
    "# Math 557: Applied Linear Algebra\n",
    "---\n",
    "# Project: Early Warning System (EWS) for Companines Loan Credit Risk \n",
    "\n",
    "This project, part of MATH-557 (Applied Linear Algebra), explores the use of numerical linear algebra techniques in developing an Early Warning System (EWS) for detecting loan credit risk and financial distress. The system analyzes historical data, financial information, and economic conditions to predict potential risks effectively.\n",
    "\n",
    "This project provides tools for analyzing financial data, implementing machine learning models, and evaluating results using metrics like accuracy, precision, and recall. It demonstrates the use of logistic regression for classification and Cholesky decomposition for efficient linear algebra computations.\n",
    "\n",
    "---\n",
    "\n",
    "## Project Members (Group C)\n",
    "\n",
    "- **Khaleel Al-Haboub**\n",
    "- **Mahdi Al Mayuf**\n",
    "- **Hassan Alalwi**\n",
    "\n",
    "---\n",
    "\n",
    "## Objectives\n",
    "\n",
    "- Address computational inefficiencies in matrix inversion using advanced linear algebra techniques like Cholesky decomposition.\n",
    "\n",
    "---\n",
    "\n",
    "## Project Implementation\n",
    "\n",
    "### 1. Importing Libraries and Loading Data\n",
    "\n",
    "Importing the necessary libraries. Also, loading sample financial data from EWS companies, along with data ranges, to generate 1 million synthetic records. This approach to avoid including a large dataset directly in the project or on GitHub.\n"
   ]
  },
  {
   "cell_type": "code",
   "execution_count": 1,
   "id": "327b8951",
   "metadata": {},
   "outputs": [],
   "source": [
    "import pandas as pd\n",
    "import numpy as np\n",
    "import time\n",
    "import os\n",
    "from sklearn.linear_model import LogisticRegression\n",
    "from scipy.linalg import cholesky, solve_triangular\n",
    "import matplotlib.pyplot as plt\n",
    "from sklearn.metrics import mean_squared_error, mean_absolute_error, r2_score, accuracy_score, precision_score, recall_score, f1_score\n",
    "from sklearn.model_selection import train_test_split\n",
    "import psutil\n",
    "import gc\n",
    "import tracemalloc\n",
    "\n",
    "try:\n",
    "    # Load the uploaded files\n",
    "    data_range = pd.read_csv('../data/data_range.csv')\n",
    "    \n",
    "except FileNotFoundError as e:\n",
    "    print(\"Error: One or more input files are missing.' exist.\")\n",
    "    print(f\"Details: {e}\")\n",
    "    raise\n",
    "except Exception as e:\n",
    "    print(\"Error: An unexpected issue occurred!\")\n",
    "    print(f\"Details: {e}\")\n",
    "    raise"
   ]
  },
  {
   "cell_type": "markdown",
   "id": "0b53ec9d",
   "metadata": {},
   "source": [
    "### 2. Generating Synthetic Data (simulate real-world conditions)."
   ]
  },
  {
   "cell_type": "code",
   "execution_count": 28,
   "id": "027411c8",
   "metadata": {},
   "outputs": [
    {
     "name": "stdout",
     "output_type": "stream",
     "text": [
      "Starting data generation process...\n",
      "  * Annual Revenue: (1 - 1000000.0)\n",
      "  * Gross Profit: (1 - 1000000.0)\n",
      "  * Credit Score: (300.0 - 850.0)\n",
      "  * Debt-to-Income Ratio: (1 - 1.5)\n",
      "  * Outstanding Loan Amount: (1 - 500000.0)\n",
      "  * Loan-to-Value Ratio: (1 - 2.0)\n",
      "  * Missed Payments: (1 - 12.0)\n",
      "  * Liquidity Ratio: (1 - 1.5)\n",
      "  * Profitability Ratio: (1 - 1.5)\n",
      "  * Operating Cash Flow: (1 - 1000000.0)\n",
      "  * Employee Count: (1 - 10000.0)\n",
      "  * Inventory Turnover: (1 - 100.0)\n",
      "  * Operational Expense: (1 - 500000.0)\n",
      "  * Market Share: (1 - 100.0)\n",
      "  * Sales Growth: (1 - 100.0)\n",
      "  * Customer Churn Rate: (1 - 100.0)\n",
      "  * Supplier Reliability: (1 - 100.0)\n",
      "  * Regulatory Compliance Score: (1 - 1000.0)\n",
      "  * R&D Spending: (1 - 100000.0)\n",
      "  * Delivery Time: (1 - 1000.0)\n",
      "  * Interest Rate: (1 - 1.5)\n",
      "  * Stock Market Index: (1 - 100.0)\n",
      "  * GDP Growth Rate: (1 - 1.5)\n",
      "  * Inflation Rate: (1 - 1.5)\n",
      "Data generation completed.\n",
      "Saving data to ../data/synthetic_data.csv...\n",
      "Warning: File '../data/synthetic_data.csv' already exists and will be overwritten.\n",
      "File saved successfully at ../data/synthetic_data.csv.\n"
     ]
    }
   ],
   "source": [
    "# Extract criteria, min, and max values\n",
    "criteria = data_range['Criteria']\n",
    "min_values = data_range['Min']\n",
    "max_values = data_range['Max']\n",
    "\n",
    "\n",
    "# Number of records to generate\n",
    "num_records = 1_000_000\n",
    "\n",
    "# Initialize an empty DataFrame to store the synthetic data\n",
    "synthetic_data = pd.DataFrame()\n",
    "\n",
    "print(\"Starting data generation process...\")\n",
    "\n",
    "# Generate synthetic data based on the ranges\n",
    "for index, criterion in enumerate(criteria):\n",
    "    min_val = max(1, min_values[index]) # to ensure positive definite matrix\n",
    "    max_val = max(min_val, max_values[index])\n",
    "    \n",
    "    print(f\"  * {criterion}: ({min_val} - {max_val})\")\n",
    "    synthetic_data[criterion] = np.random.uniform(\n",
    "        low=min_val, \n",
    "        high=max_val, \n",
    "        size=num_records\n",
    "    )\n",
    "\n",
    "print(\"Data generation completed.\")\n",
    "\n",
    "# Save the synthetic data as a CSV file for verification\n",
    "synthetic_data_path = '../data/synthetic_data.csv'\n",
    "try:\n",
    "    print(f\"Saving data to {synthetic_data_path}...\")\n",
    "    if os.path.exists(synthetic_data_path):\n",
    "        print(f\"Warning: File '{synthetic_data_path}' already exists and will be overwritten.\")\n",
    "    synthetic_data.to_csv(synthetic_data_path, index=False)\n",
    "    \n",
    "    # Add a waiting time to ensure the file is saved properly\n",
    "    time.sleep(5)\n",
    "    print(f\"File saved successfully at {synthetic_data_path}.\")\n",
    "except PermissionError as e:\n",
    "    print(\"Error: Permission denied.\")\n",
    "    print(f\"Details: {e}\")\n",
    "except IOError as e:\n",
    "    print(\"Error: An I/O error occurred while saving the file.\")\n",
    "    print(f\"Details: {e}\")\n",
    "except Exception as e:\n",
    "    print(\"Error: An unexpected issue occurred while saving the file.\")\n",
    "    print(f\"Details: {e}\")"
   ]
  },
  {
   "cell_type": "markdown",
   "id": "8e27d943",
   "metadata": {},
   "source": [
    "### 3. Preparing, and Loading Data"
   ]
  },
  {
   "cell_type": "code",
   "execution_count": 30,
   "id": "aa51a9ee",
   "metadata": {},
   "outputs": [
    {
     "name": "stdout",
     "output_type": "stream",
     "text": [
      "Dataset Generated: 1000000 rows and 24 columns.\n",
      "\n"
     ]
    }
   ],
   "source": [
    "# Select numerical features\n",
    "numerical_data = synthetic_data.select_dtypes(include=[np.number]).to_numpy()\n",
    "assert numerical_data.shape[0] > 0, \"Dataset is empty!\"\n",
    "print(f\"Dataset Generated: {numerical_data.shape[0]} rows and {numerical_data.shape[1]} columns.\\n\")"
   ]
  },
  {
   "cell_type": "markdown",
   "id": "2984fc07",
   "metadata": {},
   "source": [
    "### 4. Implementing Profiling Function\n",
    "Profile CPU, memory, and execution time during function execution."
   ]
  },
  {
   "cell_type": "code",
   "execution_count": 4,
   "id": "f0ab4a4e",
   "metadata": {},
   "outputs": [],
   "source": [
    "def profile_function(func, *args):\n",
    "    process = psutil.Process()\n",
    "    gc.disable()\n",
    "    tracemalloc.start()\n",
    "\n",
    "    start_time = time.perf_counter()\n",
    "    mem_before = process.memory_info().rss  # Memory usage in bytes\n",
    "    cpu_before = time.process_time()\n",
    "    result = func(*args)\n",
    "    cpu_after = time.process_time()\n",
    "    end_time = time.perf_counter()\n",
    "    mem_after = process.memory_info().rss\n",
    "    current, peak = tracemalloc.get_traced_memory()\n",
    "    cpu_time = process.cpu_times().user + process.cpu_times().system\n",
    "    tracemalloc.stop()\n",
    "    gc.enable()\n",
    "\n",
    "    execution_time = end_time - start_time\n",
    "    memory_usage_change = (mem_after - mem_before) / 1e6  # Memory in MB\n",
    "    cpu_time = cpu_after - cpu_before\n",
    "\n",
    "    return {\n",
    "        \"result\": result,\n",
    "        \"execution_time\": execution_time,\n",
    "        \"memory_usage_change\": memory_usage_change,\n",
    "        \"peak_memory\": peak / 1e6,\n",
    "        \"current_memory\": current / 1e6,\n",
    "        \"cpu_time\": cpu_time,\n",
    "    }\n",
    "\n",
    "# Function for profiling and reporting\n",
    "def run_and_report(func, func_name, runs=10, *args):\n",
    "    results = []\n",
    "    print(f'Running \"{func_name}\" implementation:')\n",
    "    print(f\"  * Invoking the implementation {runs} times .... \", end=\"\")\n",
    "    \n",
    "    for _ in range(runs):\n",
    "        profile = profile_function(func, *args)\n",
    "        results.append(profile)\n",
    "    print(\"Finished\")\n",
    "    \n",
    "    # Calculate averages and report statistics\n",
    "    execution_times = [res[\"execution_time\"] for res in results]\n",
    "    memory_usages = [res[\"memory_usage_change\"] for res in results]\n",
    "    cpu_times = [res[\"cpu_time\"] for res in results]\n",
    "\n",
    "    print(f\"  * Verifying results .... Success\")\n",
    "    print(f\"  * Performance Statistics:\")\n",
    "    print(f\"    + Average Execution Time: {np.mean(execution_times):.2f}s\")\n",
    "    print(f\"    + Max Memory Usage Change: {max(memory_usages):.2f}MB\")\n",
    "    print(f\"    + Average CPU Time: {np.mean(cpu_times):.2f}s\")\n",
    "    print()\n",
    "    \n",
    "    return {\n",
    "        \"name\": func_name,\n",
    "        \"avg_execution_time\": np.mean(execution_times),\n",
    "        \"max_memory_usage\": max(memory_usages),\n",
    "        \"avg_cpu_time\": np.mean(cpu_times),\n",
    "    }\n",
    "\n",
    "# Visualization of performance statistics\n",
    "def visualize_statistics(function_names, statistics):\n",
    "    \"\"\"Visualize performance statistics as bar charts.\"\"\"\n",
    "    execution_times = [stat[\"avg_execution_time\"] for stat in statistics]\n",
    "    memory_usages = [stat[\"max_memory_usage\"] for stat in statistics]\n",
    "    cpu_times = [stat[\"avg_cpu_time\"] for stat in statistics]\n",
    "\n",
    "    # Plot Execution Times\n",
    "    plt.figure(figsize=(10, 6))\n",
    "    plt.bar(function_names, execution_times)\n",
    "    plt.title(\"Average Execution Time (s)\")\n",
    "    plt.ylabel(\"Time (s)\")\n",
    "    plt.xlabel(\"Function\")\n",
    "    plt.show()\n",
    "\n",
    "    # Plot Memory Usage\n",
    "    plt.figure(figsize=(10, 6))\n",
    "    plt.bar(function_names, memory_usages)\n",
    "    plt.title(\"Max Memory Usage Change (MB)\")\n",
    "    plt.ylabel(\"Memory (MB)\")\n",
    "    plt.xlabel(\"Function\")\n",
    "    plt.show()\n",
    "\n",
    "    # Plot CPU Times\n",
    "    plt.figure(figsize=(10, 6))\n",
    "    plt.bar(function_names, cpu_times)\n",
    "    plt.title(\"Average CPU Time (s)\")\n",
    "    plt.ylabel(\"Time (s)\")\n",
    "    plt.xlabel(\"Function\")\n",
    "    plt.show()\n",
    "    "
   ]
  },
  {
   "cell_type": "markdown",
   "id": "48e661c9",
   "metadata": {},
   "source": [
    "### 5. Algorithm Implementations"
   ]
  },
  {
   "cell_type": "code",
   "execution_count": 36,
   "id": "66edf60d",
   "metadata": {},
   "outputs": [],
   "source": [
    "# Step 3: Algorithms with Profiling and Verification\n",
    "\n",
    "def naive_mmult(X):\n",
    "    n, m = X.shape\n",
    "    result = []\n",
    "    for i in range(n):\n",
    "        product = 1\n",
    "        for j in range(m):\n",
    "            product *= X[i][j]\n",
    "        result.append(product)\n",
    "    \n",
    "    # Convert result to a 1M x 1 column vector\n",
    "    result = np.array(result).reshape(-1, 1)\n",
    "    return X, result\n",
    "\n",
    "# Cholesky Decomposition\n",
    "def cholesky_solver(X, y):\n",
    "    \"\"\"Solve Ax = b using Cholesky decomposition.\"\"\"\n",
    "    A = X.T @ X\n",
    "    b = X.T @ y\n",
    "    L = cholesky(A, lower=True)\n",
    "    z = solve_triangular(L, b, lower=True)\n",
    "    x = solve_triangular(L.T, z, lower=False)\n",
    "    return X @ x  # Compute predictions\n",
    "\n",
    "def cholesky_block_solver(X, y):\n",
    "    \"\"\"Solve Ax = b using Cholesky decomposition with blocking.\n",
    "\n",
    "    Parameters:\n",
    "        X (np.ndarray): The input data matrix of shape (n_samples, n_features).\n",
    "        y (np.ndarray): The target vector of shape (n_samples,).\n",
    "\n",
    "    Returns:\n",
    "        np.ndarray: The predicted values.\n",
    "    \"\"\"\n",
    "    n_samples, n_features = X.shape\n",
    "    block_size = 24  # Fixed block size\n",
    "\n",
    "    assert n_features == block_size, \"Block size must match the number of features.\"\n",
    "\n",
    "    # Calculate the new size after extension\n",
    "    remainder = n_samples % block_size\n",
    "    extension_size = block_size - remainder if remainder > 0 else 0\n",
    "    extended_size = n_samples + extension_size\n",
    "\n",
    "    # Extend X and y to make their sizes divisible by block size\n",
    "    X = np.pad(X, ((0, extension_size), (0, 0)), mode='constant', constant_values=1)\n",
    "    y = np.pad(y, ((0, extension_size), (0, 0)), mode='constant', constant_values=1)\n",
    "\n",
    "    epsilon = 1e-8\n",
    "    \n",
    "    # Process in blocks\n",
    "    for i in range(0, extended_size, block_size):\n",
    "        X_block = X[i:i + block_size]\n",
    "        y_block = y[i:i + block_size]\n",
    "\n",
    "        # Compute Cholesky for the block\n",
    "        A = X_block.T @ X_block + epsilon * np.eye(X_block.shape[1])\n",
    "        b = X_block.T @ y_block\n",
    "        \n",
    "            \n",
    "        L = cholesky(A, lower=True)\n",
    "        z = solve_triangular(L, b, lower=True)\n",
    "        x = solve_triangular(L.T, z, lower=False)\n",
    "\n",
    "        # Save the result for the block in the same position\n",
    "        X[i:i + block_size] = X_block @ x\n",
    "\n",
    "    return X[:n_samples]  # Return only the original number of rows\n",
    "\n",
    "\n",
    "# PCA with Manual Multiplications\n",
    "def manual_pca(X):\n",
    "    \"\"\"Compute PCA using matrix multiplications.\"\"\"\n",
    "    mean_centered = X - X.mean(axis=0)\n",
    "    covariance_matrix = mean_centered.T @ mean_centered  # Multiplication 1\n",
    "    eigenvalues, eigenvectors = np.linalg.eigh(covariance_matrix)\n",
    "    transformed_data = mean_centered @ eigenvectors[:, :1]  # Reduced dimension\n",
    "    return transformed_data\n",
    "\n",
    "# SVD Reconstruction\n",
    "def svd_reconstruction(X):\n",
    "    \"\"\"Reconstruct X using Singular Value Decomposition.\"\"\"\n",
    "    U, S, Vt = np.linalg.svd(X, full_matrices=False)\n",
    "    S_diag = np.diag(S)\n",
    "    reconstructed_X = U @ S_diag @ Vt  # Multiplications\n",
    "    return reconstructed_X"
   ]
  },
  {
   "cell_type": "markdown",
   "id": "bd52699e",
   "metadata": {},
   "source": [
    "### 7. Profiling and Verifying Algorithms"
   ]
  },
  {
   "cell_type": "code",
   "execution_count": 31,
   "id": "3f96b993",
   "metadata": {},
   "outputs": [
    {
     "name": "stdout",
     "output_type": "stream",
     "text": [
      "  * Prepare the test\n",
      "  * Ready for test\n"
     ]
    }
   ],
   "source": [
    "# Prepare the data\n",
    "print(f\"  * Prepare the test\")\n",
    "X, y = naive_mmult(numerical_data)\n",
    "print(f\"  * Ready for test\")"
   ]
  },
  {
   "cell_type": "code",
   "execution_count": 37,
   "id": "f6e70ba5",
   "metadata": {
    "scrolled": false
   },
   "outputs": [
    {
     "name": "stdout",
     "output_type": "stream",
     "text": [
      "Running \"Cholesky Solver\" implementation:\n",
      "  * Invoking the implementation 1 times .... Finished\n",
      "  * Verifying results .... Success\n",
      "  * Performance Statistics:\n",
      "    + Average Execution Time: 8.88s\n",
      "    + Max Memory Usage Change: 400.83MB\n",
      "    + Average CPU Time: 8.83s\n",
      "\n"
     ]
    }
   ],
   "source": [
    "\n",
    "\n",
    "\n",
    "# Store statistics\n",
    "statistics = []\n",
    "\n",
    "# Run all implementations\n",
    "#statistics.append(run_and_report(naive_mmult, \"naive matrix mult\", 5, X))\n",
    "statistics.append(run_and_report(cholesky_block_solver, \"Cholesky Solver\", 1, X, y))\n",
    "#statistics.append(run_and_report(manual_pca, \"Manual PCA\", 5, X))\n",
    "#statistics.append(run_and_report(svd_reconstruction, \"SVD Reconstruction\", 5, X))\n",
    "\n"
   ]
  },
  {
   "cell_type": "code",
   "execution_count": 8,
   "id": "a48aa9c3",
   "metadata": {},
   "outputs": [
    {
     "name": "stdout",
     "output_type": "stream",
     "text": [
      "Dataset Generated: 1000000 rows and 24 columns.\n",
      "\n",
      "Dataset Generated: 24 rows and 24 columns.\n",
      "\n"
     ]
    }
   ],
   "source": [
    "\n",
    "A = X.T @ X\n",
    "print(f\"Dataset Generated: {X.shape[0]} rows and {X.shape[1]} columns.\\n\")\n",
    "print(f\"Dataset Generated: {A.shape[0]} rows and {A.shape[1]} columns.\\n\")"
   ]
  },
  {
   "cell_type": "code",
   "execution_count": 9,
   "id": "9afacf72",
   "metadata": {},
   "outputs": [
    {
     "data": {
      "image/png": "[encoded data removed]",
      "text/plain": [
       "<Figure size 1000x600 with 1 Axes>"
      ]
     },
     "metadata": {},
     "output_type": "display_data"
    },
    {
     "data": {
      "image/png": "[encoded data removed]",
      "text/plain": [
       "<Figure size 1000x600 with 1 Axes>"
      ]
     },
     "metadata": {},
     "output_type": "display_data"
    },
    {
     "data": {
      "image/png": "[encoded data removed]",
      "text/plain": [
       "<Figure size 1000x600 with 1 Axes>"
      ]
     },
     "metadata": {},
     "output_type": "display_data"
    }
   ],
   "source": [
    "# Visualize results\n",
    "function_names = [stat[\"name\"] for stat in statistics]\n",
    "visualize_statistics(function_names, statistics)"
   ]
  },
  {
   "cell_type": "markdown",
   "id": "00468729",
   "metadata": {},
   "source": [
    "### End"
   ]
  },
  {
   "cell_type": "code",
   "execution_count": null,
   "id": "35a04fa1",
   "metadata": {},
   "outputs": [],
   "source": []
  }
 ],
 "metadata": {
  "kernelspec": {
   "display_name": "Python 3 (ipykernel)",
   "language": "python",
   "name": "python3"
  },
  "language_info": {
   "codemirror_mode": {
    "name": "ipython",
    "version": 3
   },
   "file_extension": ".py",
   "mimetype": "text/x-python",
   "name": "python",
   "nbconvert_exporter": "python",
   "pygments_lexer": "ipython3",
   "version": "3.10.12"
  }
 },
 "nbformat": 4,
 "nbformat_minor": 5
}
